{
 "cells": [
  {
   "cell_type": "markdown",
   "id": "9d85b49c-8ab1-408f-88b3-766984836330",
   "metadata": {},
   "source": [
    "Q1. What is the difference between Ordinal Encoding and Label Encoding? Provide an example of when you\n",
    "might choose one over the other."
   ]
  },
  {
   "cell_type": "markdown",
   "id": "3b562eef-6770-4ccd-a008-b48be845dcd7",
   "metadata": {},
   "source": [
    "Both ordinal encoding and label encoding are techniques used to convert categorical data into numerical format. However, they are applied in slightly different contexts and have different implications regarding the relationships between categories.\n",
    "\n",
    "Ordinal Encoding:\n",
    "Ordinal encoding is used when the categorical variable has an inherent order or ranking among its categories. In this technique, each category is assigned a unique integer value based on its order or rank. The numerical values assigned to categories carry information about their relative positions. Ordinal encoding is typically used when there's a clear order among categories, but the exact numerical differences between the values might not have a meaningful interpretation.\n",
    "\n",
    "Label Encoding:\n",
    "Label encoding is a more general technique where each category is assigned a unique integer value without necessarily implying any order or ranking. It's often used when the categorical variable doesn't have an inherent order or when the order is not important for the task at hand. Label encoding doesn't capture any ordinal relationships; it's simply a way to convert categories into numerical values.\n",
    "\n",
    "Here's an example that illustrates the difference between ordinal encoding and label encoding:\n",
    "\n",
    "Scenario: Education Levels\n",
    "\n",
    "Suppose you have a dataset with an \"Education\" column indicating different education levels:\n",
    "\n",
    "High School\n",
    "\n",
    "Bachelor's Degree\n",
    "\n",
    "Master's Degree\n",
    "\n",
    "PhD\n",
    "\n",
    "Ordinal Encoding:\n",
    "\n",
    "If you believe there's an ordinal relationship among these education levels (e.g., PhD > Master's Degree > Bachelor's Degree > High School), you can apply ordinal encoding to capture this order:"
   ]
  },
  {
   "cell_type": "code",
   "execution_count": 1,
   "id": "bf19851c-fa2c-4da9-aff0-38fc8d2a1f3b",
   "metadata": {},
   "outputs": [
    {
     "name": "stdout",
     "output_type": "stream",
     "text": [
      "           Education  Education_Encoded\n",
      "0        High School                0.0\n",
      "1  Bachelor's Degree                1.0\n",
      "2    Master's Degree                2.0\n",
      "3                PhD                3.0\n"
     ]
    }
   ],
   "source": [
    "import pandas as pd\n",
    "from sklearn.preprocessing import OrdinalEncoder\n",
    "\n",
    "data = {\n",
    "    'Education': ['High School', 'Bachelor\\'s Degree', 'Master\\'s Degree', 'PhD']\n",
    "}\n",
    "\n",
    "df = pd.DataFrame(data)\n",
    "\n",
    "ordinal_encoder = OrdinalEncoder(categories=[['High School', 'Bachelor\\'s Degree', 'Master\\'s Degree', 'PhD']])\n",
    "df['Education_Encoded'] = ordinal_encoder.fit_transform(df[['Education']])\n",
    "\n",
    "print(df)\n"
   ]
  },
  {
   "cell_type": "markdown",
   "id": "3095d496-f201-4527-bcac-cfeb5387fe23",
   "metadata": {},
   "source": [
    "Label Encoding:\n",
    "If you don't want to assume any particular order among education levels, you can use label encoding:"
   ]
  },
  {
   "cell_type": "code",
   "execution_count": 2,
   "id": "b49c75ee-d07c-4dfe-acf6-f44bab0c898c",
   "metadata": {},
   "outputs": [
    {
     "name": "stdout",
     "output_type": "stream",
     "text": [
      "           Education  Education_Encoded\n",
      "0        High School                  1\n",
      "1  Bachelor's Degree                  0\n",
      "2    Master's Degree                  2\n",
      "3                PhD                  3\n"
     ]
    }
   ],
   "source": [
    "import pandas as pd\n",
    "from sklearn.preprocessing import LabelEncoder\n",
    "\n",
    "data = {\n",
    "    'Education': ['High School', 'Bachelor\\'s Degree', 'Master\\'s Degree', 'PhD']\n",
    "}\n",
    "\n",
    "df = pd.DataFrame(data)\n",
    "\n",
    "label_encoder = LabelEncoder()\n",
    "df['Education_Encoded'] = label_encoder.fit_transform(df['Education'])\n",
    "\n",
    "print(df)\n"
   ]
  },
  {
   "cell_type": "markdown",
   "id": "29ded045-b555-460b-90ff-efb8429cdd8d",
   "metadata": {},
   "source": [
    "When to Choose:\n",
    "Choose ordinal encoding when there's a clear order among categories, and that order carries meaning for your task. For example, if you're analyzing education levels or ranks.\n",
    "\n",
    "Choose label encoding when the categories are unordered or when you want to avoid introducing any unintended ordinal relationships. For example, when encoding colors or names of products.\n",
    "\n",
    "The choice between the two techniques depends on your understanding of the data and the requirements of your analysis or machine learning task.\n",
    "\n",
    "\n",
    "\n",
    "\n"
   ]
  },
  {
   "cell_type": "markdown",
   "id": "c26293ba-bdd9-400e-8cdb-3b4363f37208",
   "metadata": {},
   "source": [
    "Q2. Explain how Target Guided Ordinal Encoding works and provide an example of when you might use it in\n",
    "a machine learning project."
   ]
  },
  {
   "cell_type": "markdown",
   "id": "2f19e61f-e08d-4d1c-9962-e9802237851d",
   "metadata": {},
   "source": [
    "Target Guided Ordinal Encoding is a technique used to transform categorical variables into ordinal numerical values based on their relationship with the target variable. In other words, it leverages the information present in the target variable to assign ranks or orders to the categories of the categorical variable. This technique is particularly useful when there's a clear correlation between the categorical variable and the target variable in terms of their impact on the outcome.\n",
    "\n",
    "Here's how Target Guided Ordinal Encoding works:\n",
    "\n",
    "Calculate the Mean of the Target for Each Category:\n",
    "For each category of the categorical variable, you calculate the mean (or median) of the target variable. This gives you an idea of how the categories affect the target variable.\n",
    "\n",
    "Assign Ranks or Orders Based on Means:\n",
    "You then assign ranks or orders to the categories based on their mean values. The category with the highest mean might get the highest rank, and the one with the lowest mean might get the lowest rank.\n",
    "\n",
    "Encode Categories with Assigned Ranks:\n",
    "Finally, you replace the categorical values with their corresponding assigned ranks.\n",
    "\n",
    "Example:\n",
    "\n",
    "Suppose you're working on a machine learning project to predict whether a loan applicant will default or not. One of the features is \"Income Category,\" which represents the applicant's income level and has categories like \"Low,\" \"Medium,\" and \"High.\""
   ]
  },
  {
   "cell_type": "code",
   "execution_count": 4,
   "id": "1d259cbc-a7b8-4f52-809a-3b26bc40991f",
   "metadata": {},
   "outputs": [
    {
     "name": "stdout",
     "output_type": "stream",
     "text": [
      "  Income_Category  Loan_Default  Income_Encoded\n",
      "0             Low             1               2\n",
      "1          Medium             0               1\n",
      "2            High             0               0\n",
      "3          Medium             1               1\n",
      "4             Low             1               2\n",
      "5            High             0               0\n",
      "6          Medium             0               1\n"
     ]
    }
   ],
   "source": [
    "import pandas as pd\n",
    "\n",
    "# Sample data\n",
    "data = {\n",
    "    'Income_Category': ['Low', 'Medium', 'High', 'Medium', 'Low', 'High', 'Medium'],\n",
    "    'Loan_Default': [1, 0, 0, 1, 1, 0, 0]\n",
    "}\n",
    "\n",
    "df = pd.DataFrame(data)\n",
    "\n",
    "# Calculate mean target for each income category\n",
    "income_means = df.groupby('Income_Category')['Loan_Default'].mean()\n",
    "\n",
    "# Assign ranks based on mean target values\n",
    "income_ranks = income_means.sort_values().index\n",
    "income_rank_mapping = {category: rank for rank, category in enumerate(income_ranks)}\n",
    "\n",
    "# Apply Target Guided Ordinal Encoding\n",
    "df['Income_Encoded'] = df['Income_Category'].map(income_rank_mapping)\n",
    "\n",
    "print(df)\n"
   ]
  },
  {
   "cell_type": "markdown",
   "id": "8fdd32f2-c9d6-4a1c-98f9-e53e4de610e6",
   "metadata": {},
   "source": [
    "Q3. Define covariance and explain why it is important in statistical analysis. How is covariance calculated?"
   ]
  },
  {
   "cell_type": "markdown",
   "id": "2a28e7d4-7996-4b89-851c-149d57ae4708",
   "metadata": {},
   "source": [
    "Covariance:\n",
    "Covariance is a statistical measure that describes the degree to which two random variables change together. It quantifies the relationship between the variations of two variables. If the values of one variable tend to increase when the values of another variable increase, and vice versa, they are said to have a positive covariance. Conversely, if the values of one variable tend to decrease when the values of another variable increase, they have a negative covariance. If there is little to no consistent pattern in how the variables change together, their covariance is close to zero.\n",
    "\n",
    "Importance of Covariance in Statistical Analysis:\n",
    "Covariance is important in statistical analysis for several reasons:\n",
    "\n",
    "Relationship Assessment: Covariance helps to assess the direction and strength of the relationship between two variables. It indicates whether the variables tend to move together or move in opposite directions.\n",
    "\n",
    "Data Exploration: In exploratory data analysis, covariance can provide insights into potential dependencies or interactions between variables, aiding in understanding the data distribution.\n",
    "\n",
    "Feature Selection: In feature selection for machine learning, covariance can help identify redundant features. Features with high covariance may provide similar information, and one of them can potentially be removed to simplify the model.\n",
    "\n",
    "Portfolio Management: In finance, covariance is used to measure the relationships between different assets. It helps in constructing diversified portfolios to minimize risk.\n",
    "\n",
    "Multivariate Analysis: In multivariate statistical techniques, covariance matrices play a crucial role in understanding the relationships between multiple variables.\n"
   ]
  },
  {
   "cell_type": "code",
   "execution_count": 6,
   "id": "8f9878ed-9c68-4be5-8b62-c0c71496bc0b",
   "metadata": {},
   "outputs": [
    {
     "name": "stdout",
     "output_type": "stream",
     "text": [
      "Covariance: -2.5\n"
     ]
    }
   ],
   "source": [
    "import numpy as np\n",
    "\n",
    "x = np.array([1, 2, 3, 4, 5])\n",
    "y = np.array([5, 4, 3, 2, 1])\n",
    "\n",
    "covariance = np.cov(x, y)[0, 1]  # Covariance is at position (0, 1) in the covariance matrix\n",
    "print(\"Covariance:\", covariance)\n"
   ]
  },
  {
   "cell_type": "markdown",
   "id": "d304cb0d-5a38-41bd-8e00-5831542cfd38",
   "metadata": {},
   "source": [
    "Q4. For a dataset with the following categorical variables: Color (red, green, blue), Size (small, medium,\n",
    "large), and Material (wood, metal, plastic), perform label encoding using Python's scikit-learn library.\n",
    "Show your code and explain the output."
   ]
  },
  {
   "cell_type": "code",
   "execution_count": 7,
   "id": "8e3a913d-d3da-4999-a363-ec264d5c3463",
   "metadata": {},
   "outputs": [
    {
     "name": "stdout",
     "output_type": "stream",
     "text": [
      "   Color    Size Material  Color_Encoded  Size_Encoded  Material_Encoded\n",
      "0    red   small     wood              2             2                 2\n",
      "1  green  medium    metal              1             1                 0\n",
      "2   blue   large  plastic              0             0                 1\n",
      "3   blue   small     wood              0             2                 2\n",
      "4    red  medium    metal              2             1                 0\n"
     ]
    }
   ],
   "source": [
    "import pandas as pd\n",
    "from sklearn.preprocessing import LabelEncoder\n",
    "\n",
    "# Sample data\n",
    "data = {\n",
    "    'Color': ['red', 'green', 'blue', 'blue', 'red'],\n",
    "    'Size': ['small', 'medium', 'large', 'small', 'medium'],\n",
    "    'Material': ['wood', 'metal', 'plastic', 'wood', 'metal']\n",
    "}\n",
    "\n",
    "df = pd.DataFrame(data)\n",
    "\n",
    "# Initialize LabelEncoder\n",
    "label_encoder = LabelEncoder()\n",
    "\n",
    "# Apply label encoding to each column\n",
    "df['Color_Encoded'] = label_encoder.fit_transform(df['Color'])\n",
    "df['Size_Encoded'] = label_encoder.fit_transform(df['Size'])\n",
    "df['Material_Encoded'] = label_encoder.fit_transform(df['Material'])\n",
    "\n",
    "print(df)\n"
   ]
  },
  {
   "cell_type": "markdown",
   "id": "ea120985-9d41-4dc0-ba58-1b5f50f61b1b",
   "metadata": {},
   "source": [
    "Q5. Calculate the covariance matrix for the following variables in a dataset: Age, Income, and Education\n",
    "level. Interpret the results."
   ]
  },
  {
   "cell_type": "code",
   "execution_count": 8,
   "id": "10b2d860-3be0-4435-a390-9aa3a4bbf7a8",
   "metadata": {},
   "outputs": [
    {
     "name": "stdout",
     "output_type": "stream",
     "text": [
      "Covariance Matrix:\n",
      "[[3.530e+01 7.250e+03 3.400e+00]\n",
      " [7.250e+03 1.075e+08 1.750e+03]\n",
      " [3.400e+00 1.750e+03 7.000e-01]]\n"
     ]
    }
   ],
   "source": [
    "import numpy as np\n",
    "\n",
    "# Sample data for Age, Income, and Education\n",
    "age_data = [30, 40, 25, 35, 28]\n",
    "income_data = [50000, 70000, 60000, 55000, 75000]\n",
    "education_data = [1, 3, 2, 2, 1]  # Assuming numeric representation of education levels\n",
    "\n",
    "data_matrix = np.array([age_data, income_data, education_data])\n",
    "\n",
    "# Calculate the covariance matrix\n",
    "covariance_matrix = np.cov(data_matrix)\n",
    "\n",
    "print(\"Covariance Matrix:\")\n",
    "print(covariance_matrix)\n"
   ]
  },
  {
   "cell_type": "markdown",
   "id": "e00d3f61-e96c-4344-a039-6b28ff7f83d0",
   "metadata": {},
   "source": [
    "Q6. You are working on a machine learning project with a dataset containing several categorical\n",
    "variables, including \"Gender\" (Male/Female), \"Education Level\" (High School/Bachelor's/Master's/PhD),\n",
    "and \"Employment Status\" (Unemployed/Part-Time/Full-Time). Which encoding method would you use for\n",
    "each variable, and why?"
   ]
  },
  {
   "cell_type": "markdown",
   "id": "1848bc81-abd9-4430-aa74-79d8c6b1fbd4",
   "metadata": {},
   "source": [
    "For the given categorical variables \"Gender,\" \"Education Level,\" and \"Employment Status,\" the choice of encoding method depends on the nature of the variables and the potential relationships between the categories. Here's a recommended encoding method for each variable:\n",
    "\n",
    "Gender (Binary Categorical):\n",
    "Encoding Method: Binary Encoding or Label Encoding\n",
    "\n",
    "Binary Encoding: If you want to minimize the number of new columns while preserving information.\n",
    "Label Encoding: If you prefer a simpler approach and there's no inherent order between the genders.\n",
    "Justification: Gender is a binary categorical variable with two distinct values (Male/Female). Both binary encoding and label encoding would work well in this case, as there's no inherent order between the genders.\n",
    "\n",
    "Education Level (Ordinal Categorical):\n",
    "Encoding Method: Ordinal Encoding\n",
    "\n",
    "Ordinal Encoding: Since education levels have an inherent order (e.g., High School < Bachelor's < Master's < PhD).\n",
    "Justification: Education level is an ordinal categorical variable with a clear order among the categories. Using ordinal encoding preserves the ordinal relationship, allowing the model to capture the impact of education levels on the outcome.\n",
    "\n",
    "Employment Status (Nominal Categorical):\n",
    "Encoding Method: One-Hot Encoding\n",
    "\n",
    "One-Hot Encoding: If you want to avoid introducing any ordinal relationship between employment statuses.\n",
    "Justification: Employment status is a nominal categorical variable with categories that don't have a natural order. One-hot encoding is suitable in this case because it creates separate binary columns for each employment status, preserving the distinctness of the categories without implying any order."
   ]
  },
  {
   "cell_type": "code",
   "execution_count": 11,
   "id": "1764222a-1bb4-49c5-873f-11fac9375e82",
   "metadata": {},
   "outputs": [
    {
     "name": "stdout",
     "output_type": "stream",
     "text": [
      "   Gender  Education_Level_Encoded  Employment_Status_Full-Time  \\\n",
      "0    Male                      0.0                            1   \n",
      "1  Female                      1.0                            0   \n",
      "2    Male                      2.0                            0   \n",
      "3  Female                      3.0                            1   \n",
      "\n",
      "   Employment_Status_Part-Time  Employment_Status_Unemployed  \n",
      "0                            0                             0  \n",
      "1                            1                             0  \n",
      "2                            0                             1  \n",
      "3                            0                             0  \n"
     ]
    }
   ],
   "source": [
    "import pandas as pd\n",
    "from sklearn.preprocessing import OneHotEncoder, OrdinalEncoder\n",
    "\n",
    "# Sample data\n",
    "data = {\n",
    "    'Gender': ['Male', 'Female', 'Male', 'Female'],\n",
    "    'Education_Level': ['High School', 'Bachelor\\'s', 'Master\\'s', 'PhD'],\n",
    "    'Employment_Status': ['Full-Time', 'Part-Time', 'Unemployed', 'Full-Time']\n",
    "}\n",
    "\n",
    "df = pd.DataFrame(data)\n",
    "\n",
    "# One-hot encoding for Employment Status\n",
    "employment_status_encoded = pd.get_dummies(df['Employment_Status'], prefix='Employment_Status')\n",
    "\n",
    "# Ordinal encoding for Education Level\n",
    "education_levels = ['High School', 'Bachelor\\'s', 'Master\\'s', 'PhD']\n",
    "ordinal_encoder = OrdinalEncoder(categories=[education_levels])\n",
    "df['Education_Level_Encoded'] = ordinal_encoder.fit_transform(df[['Education_Level']])\n",
    "\n",
    "# Drop the original categorical columns\n",
    "df.drop(['Employment_Status', 'Education_Level'], axis=1, inplace=True)\n",
    "\n",
    "# Concatenate the encoded columns\n",
    "df_encoded = pd.concat([df, employment_status_encoded], axis=1)\n",
    "\n",
    "print(df_encoded)\n"
   ]
  },
  {
   "cell_type": "markdown",
   "id": "7425ae95-280a-43bb-9e42-4312d7333788",
   "metadata": {},
   "source": [
    "Q7. You are analyzing a dataset with two continuous variables, \"Temperature\" and \"Humidity\", and two\n",
    "categorical variables, \"Weather Condition\" (Sunny/Cloudy/Rainy) and \"Wind Direction\" (North/South/\n",
    "East/West). Calculate the covariance between each pair of variables and interpret the results."
   ]
  },
  {
   "cell_type": "code",
   "execution_count": 12,
   "id": "91af202b-96ea-4302-b439-5caa3f673230",
   "metadata": {},
   "outputs": [
    {
     "name": "stdout",
     "output_type": "stream",
     "text": [
      "Covariance Matrix:\n",
      "             Temperature  Humidity\n",
      "Temperature          9.2     -29.0\n",
      "Humidity           -29.0      92.5\n"
     ]
    },
    {
     "name": "stderr",
     "output_type": "stream",
     "text": [
      "/tmp/ipykernel_1312/2438339142.py:14: FutureWarning: The default value of numeric_only in DataFrame.cov is deprecated. In a future version, it will default to False. Select only valid columns or specify the value of numeric_only to silence this warning.\n",
      "  covariance_matrix = df.cov()\n"
     ]
    }
   ],
   "source": [
    "import pandas as pd\n",
    "\n",
    "# Sample data\n",
    "data = {\n",
    "    'Temperature': [28, 25, 30, 22, 26],\n",
    "    'Humidity': [60, 70, 55, 80, 65],\n",
    "    'Weather_Condition': ['Sunny', 'Cloudy', 'Sunny', 'Rainy', 'Cloudy'],\n",
    "    'Wind_Direction': ['North', 'South', 'East', 'West', 'North']\n",
    "}\n",
    "\n",
    "df = pd.DataFrame(data)\n",
    "\n",
    "# Calculate the covariance matrix\n",
    "covariance_matrix = df.cov()\n",
    "\n",
    "print(\"Covariance Matrix:\")\n",
    "print(covariance_matrix)\n"
   ]
  },
  {
   "cell_type": "code",
   "execution_count": null,
   "id": "680c99b7-6e4b-4509-bdbf-6151a3d5ec58",
   "metadata": {},
   "outputs": [],
   "source": []
  }
 ],
 "metadata": {
  "kernelspec": {
   "display_name": "Python 3 (ipykernel)",
   "language": "python",
   "name": "python3"
  },
  "language_info": {
   "codemirror_mode": {
    "name": "ipython",
    "version": 3
   },
   "file_extension": ".py",
   "mimetype": "text/x-python",
   "name": "python",
   "nbconvert_exporter": "python",
   "pygments_lexer": "ipython3",
   "version": "3.10.8"
  }
 },
 "nbformat": 4,
 "nbformat_minor": 5
}
