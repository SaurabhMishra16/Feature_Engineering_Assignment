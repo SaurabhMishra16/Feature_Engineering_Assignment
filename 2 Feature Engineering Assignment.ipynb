{
 "cells": [
  {
   "cell_type": "markdown",
   "id": "7fa924dc-1fa8-4d54-aebd-a9867a12b048",
   "metadata": {},
   "source": [
    "Q1. What is Min-Max scaling, and how is it used in data preprocessing? Provide an example to illustrate its\n",
    "application."
   ]
  },
  {
   "cell_type": "markdown",
   "id": "043c6429-f1d9-40d1-b959-792f0803e1d6",
   "metadata": {},
   "source": [
    "Min-Max scaling, also known as feature scaling or normalization, is a technique used in data preprocessing to transform the features of a dataset into a specific range. The purpose of Min-Max scaling is to bring the features onto a common scale, which can be particularly useful when dealing with algorithms that are sensitive to the scale of input features. This technique ensures that all features have similar ranges and magnitudes, preventing one feature from dominating the others due to differences in their scales.\n",
    "\n",
    "Min-Max scaling works by transforming each feature's values to a range between a specified minimum and maximum value (usually 0 and 1). The formula to perform Min-Max scaling on a single feature is as follows:\n",
    "\n",
    "Scaled Value = (Original Value - Min Value)/(Max Value - Min Value)\n",
    "\n",
    "Where:\n",
    "- Original Value is the value of the feature in the dataset.\n",
    "- Min Value is the minimum value of the feature across the dataset.\n",
    "- Max Value is the maximum value of the feature across the dataset.\n",
    "\n",
    "Here's an example to illustrate the application of Min-Max scaling:\n",
    "\n",
    "Suppose you have a dataset containing a feature \"Age\" with values ranging from 20 to 60 years. You want to perform Min-Max scaling on this feature to transform its values between 0 and 1.\n",
    "\n",
    "Original dataset:\n",
    "- Age: [20, 30, 40, 50, 60]\n",
    "\n",
    "To apply Min-Max scaling:\n",
    "1. Find the minimum and maximum values of the \"Age\" feature:\n",
    "   - Min Value = 20\n",
    "   - Max Value = 60\n",
    "\n",
    "2. Use the formula to scale each value:\n",
    "   - Scaled Age = {Original Age} - 20}/{60 - 20}\n",
    "\n",
    "   Scaled Age:\n",
    "   - Scaled Age(20) = {20 - 20}/{60 - 20} = 0\n",
    "   - Scaled Age(30) = {30 - 20}/{60 - 20} = 0.1667\n",
    "   - Scaled Age(40) = {40 - 20}/{60 - 20} = 0.3333\n",
    "   - Scaled Age(50) = {50 - 20}/{60 - 20} = 0.5000\n",
    "   - Scaled Age(60) = {60 - 20}/{60 - 20} = 1.0000\n",
    "\n",
    "The scaled values are now in the range of 0 to 1, and the \"Age\" feature has been successfully Min-Max scaled. This scaled feature can now be used as input for machine learning algorithms that benefit from having features within a consistent range."
   ]
  },
  {
   "cell_type": "markdown",
   "id": "9c45ac31-655b-430e-8b24-11a0388d41a7",
   "metadata": {},
   "source": [
    "Q2. What is the Unit Vector technique in feature scaling, and how does it differ from Min-Max scaling?\n",
    "Provide an example to illustrate its application."
   ]
  },
  {
   "cell_type": "markdown",
   "id": "10f92846-f5c0-4499-a99d-0f525b3cc0b3",
   "metadata": {},
   "source": [
    "The Unit Vector technique, also known as \"Normalization\" in some contexts, is another method of feature scaling used in data preprocessing. While Min-Max scaling aims to transform features into a specific range (usually between 0 and 1), the Unit Vector technique focuses on transforming features to have a unit norm, which means that the length of each feature vector becomes 1. This can be particularly useful when dealing with algorithms that rely on distance calculations, such as K-nearest neighbors or support vector machines.\n",
    "\n",
    "The formula to perform Unit Vector scaling on a single feature vector is as follows:\n",
    "\n",
    "{Normalized Feature} = {Original Feature}}\\{||Original Feature||}\n",
    "\n",
    "\n",
    "Where:\n",
    "- Original Feature is the vector of the original feature's values.\n",
    "- Original Feature represents the Euclidean norm (length) of the original feature vector.\n",
    "\n",
    "The Unit Vector technique ensures that the transformed feature vectors have a length of 1 while preserving the direction of the vectors.\n",
    "\n",
    "Here's an example to illustrate the application of the Unit Vector technique:\n",
    "\n",
    "Suppose you have a dataset containing two features, \"Height\" and \"Weight,\" and you want to apply Unit Vector scaling to these features.\n",
    "\n",
    "Original dataset:\n",
    "- Height: [170, 160, 180, 155, 190]\n",
    "- Weight: [65, 55, 75, 50, 80]\n",
    "\n",
    "To apply Unit Vector scaling:\n",
    "1. Calculate the Euclidean norm of each feature vector:\n",
    "   - For the \"Height\" feature: (||Height|| = \\sqrt{170^2 + 160^2 + 180^2 + 155^2 + 190^2}\\)\n",
    "   - For the \"Weight\" feature: (||Weight|| = \\sqrt{65^2 + 55^2 + 75^2 + 50^2 + 80^2}\\)\n",
    "\n",
    "2. Use the formula to normalize each feature vector:\n",
    "   - Normalized Height = \\(\\frac{\\text{Original Height}}{\\| \\text{Height} \\|}\\)\n",
    "   - Normalized Weight = \\(\\frac{\\text{Original Weight}}{\\| \\text{Weight} \\|}\\)\n",
    "\n",
    "   Normalized Height:\n",
    "   - Normalized Height([170, 160, 180, 155, 190]) = [0.371, 0.348, 0.392, 0.337, 0.412]\n",
    "\n",
    "   Normalized Weight:\n",
    "   - Normalized Weight([65, 55, 75, 50, 80]) = [0.371, 0.314, 0.427, 0.283, 0.454]\n",
    "\n",
    "Now, the transformed feature vectors have a unit norm, meaning their lengths are all equal to 1. This technique ensures that the direction of the original vectors is maintained while removing the impact of varying magnitudes. It's important to note that the Unit Vector technique doesn't necessarily scale the features to a specific range like Min-Max scaling does; instead, it focuses on the direction and relative relationships between the features."
   ]
  },
  {
   "cell_type": "markdown",
   "id": "b724ac73-b9cc-4191-8130-39090f1c4ea6",
   "metadata": {},
   "source": [
    "Q3. What is PCA (Principle Component Analysis), and how is it used in dimensionality reduction? Provide an\n",
    "example to illustrate its application."
   ]
  },
  {
   "cell_type": "markdown",
   "id": "df286197-9cc3-4956-9d2e-6d1f1d7d4eb9",
   "metadata": {},
   "source": [
    "Principal Component Analysis (PCA) is a dimensionality reduction technique used to transform high-dimensional data into a lower-dimensional space while retaining as much of the original data's variability as possible. The goal of PCA is to find a set of new orthogonal axes (principal components) in the transformed space such that the variance of the data along these axes is maximized. This allows for the reduction of the number of dimensions while capturing the most important patterns and relationships in the data.\n",
    "\n",
    "The steps involved in performing PCA are as follows:\n",
    "\n",
    "1. **Standardize the Data**: This step involves centering the data by subtracting the mean and scaling it to have a standard deviation of 1. This ensures that all features are on the same scale.\n",
    "\n",
    "2. **Calculate the Covariance Matrix**: The covariance matrix is computed based on the standardized data. It provides information about the relationships between different features.\n",
    "\n",
    "3. **Compute Eigenvectors and Eigenvalues**: The eigenvectors and eigenvalues of the covariance matrix are calculated. Eigenvectors represent the directions of maximum variance (principal components), and eigenvalues indicate the amount of variance explained by each eigenvector.\n",
    "\n",
    "4. **Sort Eigenvalues**: The eigenvalues are sorted in descending order. The eigenvectors corresponding to the highest eigenvalues are the principal components that capture the most variability in the data.\n",
    "\n",
    "5. **Choose Principal Components**: Based on the explained variance and the number of dimensions you want to reduce to, you can select a subset of the principal components.\n",
    "\n",
    "6. **Projection**: The original data is projected onto the selected principal components to obtain the lower-dimensional representation of the data.\n",
    "\n",
    "Here's an example to illustrate the application of PCA:\n",
    "\n",
    "Suppose you have a dataset with two features, \"Height\" and \"Weight,\" and you want to reduce the dimensionality of this dataset using PCA.\n",
    "\n",
    "Original dataset (in inches and pounds):\n",
    "- Height: [70, 65, 72, 62, 74]\n",
    "- Weight: [160, 140, 180, 120, 200]\n",
    "\n",
    "1. **Standardize the Data**: Calculate the mean and standard deviation for each feature and then standardize the data.\n",
    "\n",
    "2. **Calculate the Covariance Matrix**: Calculate the covariance matrix based on the standardized data.\n",
    "\n",
    "3. **Compute Eigenvectors and Eigenvalues**: Calculate the eigenvectors and eigenvalues of the covariance matrix.\n",
    "\n",
    "4. **Sort Eigenvalues**: Suppose the sorted eigenvalues are [0.8, 0.2]. The corresponding eigenvectors are the principal components.\n",
    "\n",
    "5. **Choose Principal Components**: Let's say you decide to retain only one principal component for dimensionality reduction.\n",
    "\n",
    "6. **Projection**: Project the original data onto the chosen principal component to obtain the lower-dimensional representation.\n",
    "\n",
    "After performing PCA, your data would be represented in a lower-dimensional space along the chosen principal component. This new representation captures the most significant variation in the data while reducing the dimensionality. The example above illustrates a simplified scenario, but in real-world applications, PCA is often applied to datasets with many more features, allowing for more effective dimensionality reduction."
   ]
  },
  {
   "cell_type": "markdown",
   "id": "cbe677e3-c300-4cea-9362-dff4dc027fda",
   "metadata": {},
   "source": [
    "Q4. What is the relationship between PCA and Feature Extraction, and how can PCA be used for Feature\n",
    "Extraction? Provide an example to illustrate this concept."
   ]
  },
  {
   "cell_type": "markdown",
   "id": "921cdac9-b68d-4421-9a62-4bd9cdcc5960",
   "metadata": {},
   "source": [
    "PCA (Principal Component Analysis) is a technique that can be used for both dimensionality reduction and feature extraction. While these two concepts are related, they have distinct goals:\n",
    "\n",
    "- **Dimensionality Reduction**: In dimensionality reduction, the goal is to reduce the number of features (dimensions) in a dataset while preserving as much of the original variability as possible. This is particularly useful when dealing with high-dimensional data that might suffer from the curse of dimensionality and may lead to increased computational complexity or overfitting. PCA achieves dimensionality reduction by projecting the data onto a lower-dimensional space spanned by the principal components.\n",
    "\n",
    "- **Feature Extraction**: Feature extraction involves transforming the original features into a new set of features that represent the data in a more meaningful or compact way. Feature extraction methods aim to capture important patterns and relationships in the data while reducing noise and redundancy. PCA can be used as a feature extraction technique by creating new features (principal components) that are linear combinations of the original features.\n",
    "\n",
    "In the context of PCA being used for feature extraction, each principal component is essentially a linear combination of the original features. These principal components are ordered by the amount of variance they capture in the data, so the first few principal components often capture the most important patterns.\n",
    "\n",
    "Here's an example to illustrate how PCA can be used for feature extraction:\n",
    "\n",
    "Suppose you have a dataset with five features representing different aspects of a person's physical activity, such as \"Steps Taken,\" \"Calories Burned,\" \"Distance Traveled,\" \"Heart Rate,\" and \"Sleep Duration.\" You want to extract new features that capture the most important information from these original features.\n",
    "\n",
    "Original dataset:\n",
    "- Steps Taken: [8000, 6000, 10000, 5000, 12000]\n",
    "- Calories Burned: [300, 250, 400, 200, 450]\n",
    "- Distance Traveled: [3.5, 2.8, 4.2, 2.0, 5.0]\n",
    "- Heart Rate: [80, 75, 90, 70, 95]\n",
    "- Sleep Duration: [7, 6, 8, 5, 9]\n",
    "\n",
    "To use PCA for feature extraction:\n",
    "1. Standardize the data (mean center and scale).\n",
    "\n",
    "2. Perform PCA to obtain the principal components and their associated eigenvalues.\n",
    "\n",
    "3. Choose a subset of the principal components based on the explained variance or the desired number of extracted features.\n",
    "\n",
    "4. Project the original data onto the chosen principal components to obtain the new features.\n",
    "\n",
    "For example, let's say you decide to retain the first two principal components. The extracted features for the first data point (8000 steps, 300 calories, 3.5 miles, 80 bpm heart rate, 7 hours of sleep) might look like:\n",
    "\n",
    "- Extracted Feature 1: 0.6 X {Steps Taken} + 0.5 X {Calories Burned} + 0.4 X {Distance Traveled} + 0.3 X {Heart Rate} + 0.4 X {Sleep Duration}\n",
    "- Extracted Feature 2: 0.2 X{Steps Taken} - 0.3 X {Calories Burned} + 0.7 X{Distance Traveled} - 0.5 X {Heart Rate} + 0.1 X {Sleep Duration}\n",
    "\n",
    "These extracted features are linear combinations of the original features and represent patterns that capture the most important information from the data. They can be used as input features for further analysis or modeling.\n",
    "\n",
    "In this way, PCA serves as a feature extraction technique by creating new, meaningful features that effectively represent the underlying structure of the data."
   ]
  },
  {
   "cell_type": "markdown",
   "id": "ffaccc22-4808-48b6-b8df-52dc9a503460",
   "metadata": {},
   "source": [
    "Q5. You are working on a project to build a recommendation system for a food delivery service. The dataset\n",
    "contains features such as price, rating, and delivery time. Explain how you would use Min-Max scaling to\n",
    "preprocess the data."
   ]
  },
  {
   "cell_type": "code",
   "execution_count": 2,
   "id": "c0e2d414-81a5-46ae-8c2e-b360a775ff75",
   "metadata": {},
   "outputs": [
    {
     "name": "stdout",
     "output_type": "stream",
     "text": [
      "      price    rating  delivery_time\n",
      "0  0.000000  0.000000          0.250\n",
      "1  0.357143  0.538462          0.625\n",
      "2  0.714286  1.000000          0.000\n",
      "3  0.464286  0.307692          1.000\n",
      "4  1.000000  0.769231          0.750\n"
     ]
    }
   ],
   "source": [
    "from sklearn.preprocessing import MinMaxScaler\n",
    "import pandas as pd\n",
    "\n",
    "# Sample dataset (replace with your actual dataset)\n",
    "data = {\n",
    "    'price': [5.00, 7.50, 10.00, 8.25, 12.00],\n",
    "    'rating': [3.5, 4.2, 4.8, 3.9, 4.5],\n",
    "    'delivery_time': [30, 45, 20, 60, 50]\n",
    "}\n",
    "\n",
    "# Convert the data dictionary to a DataFrame\n",
    "df = pd.DataFrame(data)\n",
    "\n",
    "# Initialize MinMaxScaler\n",
    "scaler = MinMaxScaler()\n",
    "\n",
    "# Fit and transform the data using MinMaxScaler\n",
    "scaled_data = scaler.fit_transform(df)\n",
    "\n",
    "# Convert the scaled data back to a DataFrame\n",
    "scaled_df = pd.DataFrame(scaled_data, columns=df.columns)\n",
    "\n",
    "# Print the scaled DataFrame\n",
    "print(scaled_df)\n"
   ]
  },
  {
   "cell_type": "markdown",
   "id": "0aeed559-8253-4d1c-a70b-32e1db5358db",
   "metadata": {},
   "source": [
    "Q6. You are working on a project to build a model to predict stock prices. The dataset contains many\n",
    "features, such as company financial data and market trends. Explain how you would use PCA to reduce the\n",
    "dimensionality of the dataset."
   ]
  },
  {
   "cell_type": "code",
   "execution_count": null,
   "id": "02bd2b50-49d1-44c1-979a-bb48ae424224",
   "metadata": {},
   "outputs": [],
   "source": [
    "from sklearn.decomposition import PCA\n",
    "from sklearn.preprocessing import StandardScaler\n",
    "import pandas as pd\n",
    "\n",
    "# Load your dataset (replace 'data.csv' with your dataset's filename)\n",
    "data = pd.read_csv('data.csv')\n",
    "\n",
    "# Separate the features and target variable\n",
    "X = data.drop('target_column', axis=1)  # Features\n",
    "y = data['target_column']  # Target variable\n",
    "\n",
    "# Standardize the features\n",
    "scaler = StandardScaler()\n",
    "X_scaled = scaler.fit_transform(X)\n",
    "\n",
    "# Initialize PCA with the desired number of components\n",
    "num_components = 10  # Adjust this number based on your needs\n",
    "pca = PCA(n_components=num_components)\n",
    "\n",
    "# Apply PCA on the scaled features\n",
    "X_pca = pca.fit_transform(X_scaled)\n",
    "\n",
    "# Now, X_pca contains the reduced-dimensional feature representation\n",
    "\n",
    "# You can also access the explained variance ratio for each component\n",
    "explained_variance_ratio = pca.explained_variance_ratio_\n",
    "\n",
    "# Use X_pca for training your stock price prediction model\n"
   ]
  },
  {
   "cell_type": "markdown",
   "id": "80c23e22-ba4a-4f51-8eb0-96af1d333375",
   "metadata": {},
   "source": [
    "Q7. For a dataset containing the following values: [1, 5, 10, 15, 20], perform Min-Max scaling to transform the\n",
    "values to a range of -1 to 1."
   ]
  },
  {
   "cell_type": "code",
   "execution_count": 6,
   "id": "9e732c5c-d3d0-42cb-b88d-5260f1c4f2d6",
   "metadata": {},
   "outputs": [
    {
     "name": "stdout",
     "output_type": "stream",
     "text": [
      "Original dataset: [ 1  5 10 15 20]\n",
      "Scaled dataset: [-1.         -0.57894737 -0.05263158  0.47368421  1.        ]\n"
     ]
    }
   ],
   "source": [
    "import numpy as np\n",
    "\n",
    "# Original dataset\n",
    "data = np.array([1, 5, 10, 15, 20])\n",
    "\n",
    "# Define the desired range (-1 to 1)\n",
    "new_min = -1\n",
    "new_max = 1\n",
    "\n",
    "# Calculate the minimum and maximum values of the original data\n",
    "min_value = np.min(data)\n",
    "max_value = np.max(data)\n",
    "\n",
    "# Apply Min-Max scaling formula\n",
    "scaled_data = new_min + ((data - min_value) / (max_value - min_value)) * (new_max - new_min)\n",
    "\n",
    "print(\"Original dataset:\", data)\n",
    "print(\"Scaled dataset:\", scaled_data)\n"
   ]
  },
  {
   "cell_type": "markdown",
   "id": "7454e8a7-2e17-4c2b-aa79-475ba3402fa6",
   "metadata": {},
   "source": [
    "Q8. For a dataset containing the following features: [height, weight, age, gender, blood pressure], perform\n",
    "Feature Extraction using PCA. How many principal components would you choose to retain, and why?"
   ]
  },
  {
   "cell_type": "markdown",
   "id": "d3e85200-facb-4bc1-b897-8449f56c1bc6",
   "metadata": {},
   "source": [
    "Choosing the number of principal components to retain in a feature extraction process using PCA involves finding a balance between reducing dimensionality and retaining as much information as possible. One common approach is to use the cumulative explained variance to make an informed decision. You can plot the cumulative explained variance against the number of principal components and choose the number that captures a high percentage of the total variance, such as 95% or more.\n"
   ]
  },
  {
   "cell_type": "code",
   "execution_count": 10,
   "id": "353172ae-cc07-4331-865e-d3f52fbe4191",
   "metadata": {},
   "outputs": [
    {
     "data": {
      "image/png": "[encoded data removed]",
      "text/plain": [
       "<Figure size 640x480 with 1 Axes>"
      ]
     },
     "metadata": {},
     "output_type": "display_data"
    },
    {
     "name": "stdout",
     "output_type": "stream",
     "text": [
      "Number of principal components to retain: 1\n"
     ]
    }
   ],
   "source": [
    "import numpy as np\n",
    "import pandas as pd\n",
    "from sklearn.decomposition import PCA\n",
    "from sklearn.preprocessing import StandardScaler\n",
    "import matplotlib.pyplot as plt\n",
    "\n",
    "# Sample dataset (replace with your actual data)\n",
    "data = np.array([\n",
    "    [170, 65, 30, 0, 120],\n",
    "    [160, 55, 28, 1, 130],\n",
    "    # ... more data\n",
    "])\n",
    "\n",
    "# Standardize the data\n",
    "scaler = StandardScaler()\n",
    "data_scaled = scaler.fit_transform(data)\n",
    "\n",
    "# Apply PCA\n",
    "pca = PCA()\n",
    "pca.fit(data_scaled)\n",
    "\n",
    "# Calculate cumulative explained variance\n",
    "cumulative_explained_variance = np.cumsum(pca.explained_variance_ratio_)\n",
    "\n",
    "# Plot cumulative explained variance\n",
    "plt.plot(cumulative_explained_variance)\n",
    "plt.xlabel('Number of Principal Components')\n",
    "plt.ylabel('Cumulative Explained Variance')\n",
    "plt.title('Cumulative Explained Variance vs. Number of Principal Components')\n",
    "plt.show()\n",
    "\n",
    "# Choose the number of principal components to retain (e.g., 95% variance)\n",
    "desired_variance = 0.95\n",
    "num_components = np.argmax(cumulative_explained_variance >= desired_variance) + 1\n",
    "print(\"Number of principal components to retain:\", num_components)\n",
    "\n",
    "# Perform PCA with the selected number of components\n",
    "pca = PCA(n_components=num_components)\n",
    "data_pca = pca.fit_transform(data_scaled)\n",
    "\n",
    "# Now 'data_pca' contains the reduced-dimensional feature representation\n"
   ]
  },
  {
   "cell_type": "code",
   "execution_count": null,
   "id": "646adb15-e053-4852-82c2-7863a628d518",
   "metadata": {},
   "outputs": [],
   "source": []
  }
 ],
 "metadata": {
  "kernelspec": {
   "display_name": "Python 3 (ipykernel)",
   "language": "python",
   "name": "python3"
  },
  "language_info": {
   "codemirror_mode": {
    "name": "ipython",
    "version": 3
   },
   "file_extension": ".py",
   "mimetype": "text/x-python",
   "name": "python",
   "nbconvert_exporter": "python",
   "pygments_lexer": "ipython3",
   "version": "3.10.8"
  }
 },
 "nbformat": 4,
 "nbformat_minor": 5
}
