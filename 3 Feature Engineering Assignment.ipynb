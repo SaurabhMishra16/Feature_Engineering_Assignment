{
 "cells": [
  {
   "cell_type": "markdown",
   "id": "baf5d359-9d27-4fa7-b445-e979ca9db87d",
   "metadata": {},
   "source": [
    "Q1. What is data encoding? How is it useful in data science?"
   ]
  },
  {
   "cell_type": "markdown",
   "id": "978153cb-eb1b-4000-a77d-b63a1e041f0a",
   "metadata": {},
   "source": [
    "Data encoding is the process of converting data from one format or representation into another format. In the context of data science, data encoding is particularly important when working with categorical or textual data that needs to be converted into a numerical format that can be processed by machine learning algorithms. This conversion is necessary because most machine learning algorithms require numerical input to perform computations and make predictions.\n",
    "\n",
    "Here are a few common scenarios where data encoding is useful in data science:\n",
    "\n",
    "1. **Categorical Data:** Categorical data consists of distinct categories or labels, such as colors, types of products, or geographic regions. Machine learning algorithms often require these categories to be represented numerically. One common method of encoding categorical data is through \"one-hot encoding,\" where each category is represented by a binary vector, with a 1 in the position corresponding to the category and 0s in all other positions.\n",
    "\n",
    "2. **Text Data:** Textual data, such as natural language text, cannot be directly used by most machine learning algorithms. Text data needs to be converted into numerical vectors using techniques like \"bag of words,\" \"TF-IDF\" (Term Frequency-Inverse Document Frequency), or word embeddings like Word2Vec or GloVe. These techniques capture the semantic meaning and relationships between words.\n",
    "\n",
    "3. **Ordinal Data:** Ordinal data involves categories with a specific order or hierarchy, like education levels (e.g., high school, college, postgraduate). In this case, ordinal encoding assigns each category a numerical value according to its order, preserving the information about their relationships.\n",
    "\n",
    "4. **Feature Scaling:** Sometimes, data encoding is also used for feature scaling to ensure that different features of the dataset have similar scales. This can prevent certain features from dominating the learning process of machine learning algorithms that are sensitive to the scale of features, like distance-based algorithms.\n",
    "\n",
    "5. **Label Encoding:** Label encoding is used for encoding target variables, particularly in classification tasks. Each class label is assigned a unique integer value, making it easier for algorithms to process.\n"
   ]
  },
  {
   "cell_type": "markdown",
   "id": "bd40ec1a-8b6a-470c-9bc2-b617cdbc21f2",
   "metadata": {},
   "source": [
    "Q2. What is nominal encoding? Provide an example of how you would use it in a real-world scenario."
   ]
  },
  {
   "cell_type": "markdown",
   "id": "bc19fbb4-10f7-4c71-b0a1-91be795bedce",
   "metadata": {},
   "source": [
    "Nominal encoding, also known as categorical encoding or label-based encoding, is a method of converting categorical data (data with distinct categories) into numerical format. In nominal encoding, each category is assigned a unique integer value, allowing machine learning algorithms to process the data.\n",
    "\n",
    "Here's an example of how you might use nominal encoding in a real-world scenario using Python:\n",
    "\n",
    "Scenario: Customer Segmentation based on Product Preferences\n",
    "\n",
    "Suppose you're working with a dataset of customer preferences for different types of products. The dataset contains a column named \"Product_Category\" which indicates the category of products each customer prefers. The categories include \"Electronics,\" \"Clothing,\" \"Books,\" and \"Home Appliances.\"\n"
   ]
  },
  {
   "cell_type": "code",
   "execution_count": 1,
   "id": "a4e9db94-fc9f-414e-a6e0-b8064615580a",
   "metadata": {},
   "outputs": [
    {
     "name": "stdout",
     "output_type": "stream",
     "text": [
      "   CustomerID Product_Category  Product_Category_Encoded\n",
      "0           1      Electronics                         2\n",
      "1           2         Clothing                         1\n",
      "2           3            Books                         0\n",
      "3           4      Electronics                         2\n",
      "4           5  Home Appliances                         3\n"
     ]
    }
   ],
   "source": [
    "import pandas as pd\n",
    "from sklearn.preprocessing import LabelEncoder\n",
    "\n",
    "# Sample data\n",
    "data = {\n",
    "    'CustomerID': [1, 2, 3, 4, 5],\n",
    "    'Product_Category': ['Electronics', 'Clothing', 'Books', 'Electronics', 'Home Appliances']\n",
    "}\n",
    "\n",
    "df = pd.DataFrame(data)\n",
    "\n",
    "# Instantiate the LabelEncoder\n",
    "label_encoder = LabelEncoder()\n",
    "\n",
    "# Apply nominal encoding to the 'Product_Category' column\n",
    "df['Product_Category_Encoded'] = label_encoder.fit_transform(df['Product_Category'])\n",
    "\n",
    "print(df)\n"
   ]
  },
  {
   "cell_type": "markdown",
   "id": "5734d79b-4f2d-4a31-b557-5cdb744c63d4",
   "metadata": {},
   "source": [
    "Q3. In what situations is nominal encoding preferred over one-hot encoding? Provide a practical example."
   ]
  },
  {
   "cell_type": "markdown",
   "id": "3a445614-d747-41a1-b81a-9b2316ff97f8",
   "metadata": {},
   "source": [
    "Nominal encoding and one-hot encoding serve different purposes and are preferred under different circumstances. Nominal encoding is typically used when the categorical variable has a large number of categories or when there is a specific reason to believe that ordinal relationships among categories are not relevant or meaningful.\n",
    "\n",
    "Here's a practical example where nominal encoding might be preferred over one-hot encoding:\n",
    "\n",
    "Scenario: Movie Genre Classification\n",
    "\n",
    "Suppose you're working on a movie recommendation system, and one of the features you want to consider is the genre of the movie. The dataset contains a \"Genre\" column with categories like \"Action,\" \"Comedy,\" \"Drama,\" \"Sci-Fi,\" and so on.\n",
    "\n",
    "In this case, using nominal encoding could be more suitable. This is because movie genres don't necessarily have a clear ordinal relationship. While some people might prefer one genre over another, it doesn't imply a strict ordering of genres. Nominal encoding helps in maintaining the original relationships among different genres while converting them into numerical format.\n",
    "\n"
   ]
  },
  {
   "cell_type": "code",
   "execution_count": 2,
   "id": "ad0ac359-3896-4452-ad51-072aec30fdca",
   "metadata": {},
   "outputs": [
    {
     "name": "stdout",
     "output_type": "stream",
     "text": [
      "   MovieID   Genre  Genre_Encoded\n",
      "0        1  Action              0\n",
      "1        2  Comedy              1\n",
      "2        3   Drama              2\n",
      "3        4  Sci-Fi              3\n",
      "4        5  Action              0\n"
     ]
    }
   ],
   "source": [
    "import pandas as pd\n",
    "from sklearn.preprocessing import LabelEncoder\n",
    "\n",
    "# Sample data\n",
    "data = {\n",
    "    'MovieID': [1, 2, 3, 4, 5],\n",
    "    'Genre': ['Action', 'Comedy', 'Drama', 'Sci-Fi', 'Action']\n",
    "}\n",
    "\n",
    "df = pd.DataFrame(data)\n",
    "\n",
    "# Instantiate the LabelEncoder\n",
    "label_encoder = LabelEncoder()\n",
    "\n",
    "# Apply nominal encoding to the 'Genre' column\n",
    "df['Genre_Encoded'] = label_encoder.fit_transform(df['Genre'])\n",
    "\n",
    "print(df)\n"
   ]
  },
  {
   "cell_type": "markdown",
   "id": "b05ceced-33b0-4421-96be-a3b3d6850e21",
   "metadata": {},
   "source": [
    "Q4. Suppose you have a dataset containing categorical data with 5 unique values. Which encoding\n",
    "technique would you use to transform this data into a format suitable for machine learning algorithms?\n",
    "Explain why you made this choice."
   ]
  },
  {
   "cell_type": "markdown",
   "id": "3583e380-76de-40a0-b5a9-636ffcf047a7",
   "metadata": {},
   "source": [
    "If you have a categorical variable with 5 unique values, you can use either nominal encoding (Label Encoding) or one-hot encoding, depending on the nature of the categorical data and the requirements of your machine learning task.\n",
    "\n",
    "Nominal Encoding (Label Encoding):\n",
    "If the categorical variable represents a nominal attribute without a clear ordinal relationship, you can use nominal encoding. In this case, you assign a unique numerical value to each category. Label Encoding can be a good choice when the categories have some inherent order, but the exact numerical differences between the values are not meaningful."
   ]
  },
  {
   "cell_type": "code",
   "execution_count": 3,
   "id": "4edaca01-9a6a-47c0-832f-02cc79b7ff3e",
   "metadata": {},
   "outputs": [
    {
     "name": "stdout",
     "output_type": "stream",
     "text": [
      "  Category  Category_Encoded\n",
      "0        A                 0\n",
      "1        B                 1\n",
      "2        C                 2\n",
      "3        A                 0\n",
      "4        D                 3\n",
      "5        B                 1\n",
      "6        C                 2\n",
      "7        E                 4\n",
      "8        E                 4\n",
      "9        A                 0\n"
     ]
    }
   ],
   "source": [
    "import pandas as pd\n",
    "from sklearn.preprocessing import LabelEncoder\n",
    "\n",
    "data = {\n",
    "    'Category': ['A', 'B', 'C', 'A', 'D', 'B', 'C', 'E', 'E', 'A']\n",
    "}\n",
    "\n",
    "df = pd.DataFrame(data)\n",
    "\n",
    "label_encoder = LabelEncoder()\n",
    "df['Category_Encoded'] = label_encoder.fit_transform(df['Category'])\n",
    "\n",
    "print(df)\n"
   ]
  },
  {
   "cell_type": "markdown",
   "id": "6a41b1c5-bc31-4592-9c6f-b5c90ebddd89",
   "metadata": {},
   "source": [
    "One-Hot Encoding:\n",
    "If the categorical variable doesn't have any inherent order and you want to avoid introducing any potential ordinal relationships, one-hot encoding is a good choice. One-hot encoding represents each category as a binary column where a 1 indicates the presence of that category and a 0 indicates its absence."
   ]
  },
  {
   "cell_type": "code",
   "execution_count": 7,
   "id": "20e01c57-0ed7-4b71-a331-057a86b17060",
   "metadata": {},
   "outputs": [
    {
     "name": "stdout",
     "output_type": "stream",
     "text": [
      "   Category_A  Category_B  Category_C  Category_D  Category_E\n",
      "0           1           0           0           0           0\n",
      "1           0           1           0           0           0\n",
      "2           0           0           1           0           0\n",
      "3           1           0           0           0           0\n",
      "4           0           0           0           1           0\n",
      "5           0           1           0           0           0\n",
      "6           0           0           1           0           0\n",
      "7           0           0           0           0           1\n",
      "8           0           0           0           0           1\n",
      "9           1           0           0           0           0\n"
     ]
    }
   ],
   "source": [
    "import pandas as pd\n",
    "\n",
    "data = {\n",
    "    'Category': ['A', 'B', 'C', 'A', 'D', 'B', 'C', 'E', 'E', 'A']\n",
    "}\n",
    "\n",
    "df = pd.DataFrame(data)\n",
    "\n",
    "# Perform one-hot encoding\n",
    "df_encoded = pd.get_dummies(df, columns=['Category'], prefix='Category')\n",
    "\n",
    "print(df_encoded)\n"
   ]
  },
  {
   "cell_type": "markdown",
   "id": "5afc67b8-0c7e-4ba6-8361-c6504b9aa6e2",
   "metadata": {},
   "source": [
    "Q5. In a machine learning project, you have a dataset with 1000 rows and 5 columns. Two of the columns\n",
    "are categorical, and the remaining three columns are numerical. If you were to use nominal encoding to\n",
    "transform the categorical data, how many new columns would be created? Show your calculations."
   ]
  },
  {
   "cell_type": "markdown",
   "id": "94651978-caee-42b1-a17b-ef9fb96f42f7",
   "metadata": {},
   "source": [
    "ominal encoding (also known as label encoding) converts each unique category in a categorical column into a unique numerical value. If you have two categorical columns and you apply nominal encoding to them, you'll end up creating two new columns, each containing the encoded numerical values.\n",
    "\n",
    "Let's break down the calculation:\n",
    "\n",
    "Dataset Dimensions:\n",
    "\n",
    "Number of rows (n) = 1000\n",
    "Number of categorical columns = 2\n",
    "Number of numerical columns = 3\n",
    "Nominal Encoding:\n",
    "For each categorical column, you will create a new column with the encoded values.\n",
    "\n",
    "So, the total number of new columns created for nominal encoding is 2."
   ]
  },
  {
   "cell_type": "code",
   "execution_count": 9,
   "id": "4d6ae706-9b1c-4e5a-80ae-ee56c1749045",
   "metadata": {},
   "outputs": [
    {
     "name": "stdout",
     "output_type": "stream",
     "text": [
      "Total number of new columns created: 2\n"
     ]
    }
   ],
   "source": [
    "# Given data\n",
    "num_rows = 1000\n",
    "num_categorical_columns = 2\n",
    "\n",
    "# Calculate the total number of new columns created\n",
    "num_new_columns = num_categorical_columns\n",
    "\n",
    "print(\"Total number of new columns created:\", num_new_columns)\n"
   ]
  },
  {
   "cell_type": "markdown",
   "id": "f7ffb5d5-633c-4898-8e11-afd2af5a50d7",
   "metadata": {},
   "source": [
    "Q6. You are working with a dataset containing information about different types of animals, including their\n",
    "species, habitat, and diet. Which encoding technique would you use to transform the categorical data into\n",
    "a format suitable for machine learning algorithms? Justify your answer."
   ]
  },
  {
   "cell_type": "markdown",
   "id": "a5edcb46-d494-4736-8732-1bed05805a2f",
   "metadata": {},
   "source": [
    "In the scenario where you are working with a dataset containing information about different types of animals, including their species, habitat, and diet, the choice of encoding technique would depend on the nature of the categorical data and the relationships between the categories. Let's evaluate the two common encoding techniques:\n",
    "\n",
    "Nominal Encoding (Label Encoding):\n",
    "Nominal encoding assigns unique numerical values to each category. This technique is suitable when there's no intrinsic order or hierarchy among the categories. If the categorical variables such as species, habitat, and diet do not have a meaningful order or ranking, and their values are distinct and unrelated, you can use nominal encoding. Label encoding can be a good choice to represent the categories numerically while preserving the distinction between them.\n",
    "\n",
    "One-Hot Encoding:\n",
    "One-hot encoding is used when there is no ordinal relationship between categories, and you want to represent each category as a separate binary column. Each category gets a separate column, and a 1 in a column indicates the presence of that category for a particular data point. One-hot encoding is particularly useful when you don't want to introduce any unintended ordinal relationships between categories.\n",
    "\n",
    "Justification:\n",
    "\n",
    "In the context of animal data with species, habitat, and diet information, it's likely that these categorical variables don't have inherent ordinal relationships. For instance, animal species, different habitats, and diets are distinct categories without any natural order. Therefore, using one-hot encoding would be a safer choice. One-hot encoding ensures that no assumptions are made about the relationships between categories, and each category is represented independently.\n",
    "\n",
    "Additionally, using one-hot encoding makes it clear to the machine learning algorithm that there is no numerical significance to the encoded values, thus avoiding any potential misinterpretation of the data."
   ]
  },
  {
   "cell_type": "code",
   "execution_count": 10,
   "id": "fba3e935-3a3a-48ac-8cd3-1c22bbe46448",
   "metadata": {},
   "outputs": [
    {
     "name": "stdout",
     "output_type": "stream",
     "text": [
      "   AnimalID  Species_Elephant  Species_Giraffe  Species_Lion  Habitat_Forest  \\\n",
      "0         1                 0                0             1               0   \n",
      "1         2                 0                1             0               0   \n",
      "2         3                 0                0             1               0   \n",
      "3         4                 1                0             0               1   \n",
      "4         5                 0                1             0               0   \n",
      "\n",
      "   Habitat_Grassland  Habitat_Savannah  Diet_Carnivore  Diet_Herbivore  \n",
      "0                  0                 1               1               0  \n",
      "1                  1                 0               0               1  \n",
      "2                  0                 1               1               0  \n",
      "3                  0                 0               0               1  \n",
      "4                  1                 0               0               1  \n"
     ]
    }
   ],
   "source": [
    "import pandas as pd\n",
    "\n",
    "data = {\n",
    "    'AnimalID': [1, 2, 3, 4, 5],\n",
    "    'Species': ['Lion', 'Giraffe', 'Lion', 'Elephant', 'Giraffe'],\n",
    "    'Habitat': ['Savannah', 'Grassland', 'Savannah', 'Forest', 'Grassland'],\n",
    "    'Diet': ['Carnivore', 'Herbivore', 'Carnivore', 'Herbivore', 'Herbivore']\n",
    "}\n",
    "\n",
    "df = pd.DataFrame(data)\n",
    "\n",
    "# Perform one-hot encoding\n",
    "df_encoded = pd.get_dummies(df, columns=['Species', 'Habitat', 'Diet'], prefix=['Species', 'Habitat', 'Diet'])\n",
    "\n",
    "print(df_encoded)\n"
   ]
  },
  {
   "cell_type": "markdown",
   "id": "76a90228-45f0-4eb9-8dec-c7fbd1a2f108",
   "metadata": {},
   "source": [
    "Q7.You are working on a project that involves predicting customer churn for a telecommunications\n",
    "company. You have a dataset with 5 features, including the customer's gender, age, contract type,\n",
    "monthly charges, and tenure. Which encoding technique(s) would you use to transform the categorical\n",
    "data into numerical data? Provide a step-by-step explanation of how you would implement the encoding."
   ]
  },
  {
   "cell_type": "markdown",
   "id": "ecef2cb7-a2a1-4261-ad60-689120fc0059",
   "metadata": {},
   "source": [
    "n the context of predicting customer churn for a telecommunications company, you have a dataset with a mix of categorical and numerical features. To prepare this dataset for machine learning algorithms, you would need to encode the categorical data into numerical format. Let's go through the process step by step:\n",
    "\n",
    "Features:\n",
    "\n",
    "Customer's gender (Categorical)\n",
    "Age (Numerical)\n",
    "Contract type (Categorical)\n",
    "Monthly charges (Numerical)\n",
    "Tenure (Numerical)\n",
    "Categorical Encoding:\n",
    "\n",
    "Gender (Binary Categorical):\n",
    "Gender is a binary categorical variable (e.g., Male/Female). You can use nominal encoding or binary encoding to transform this feature into numerical format. For the sake of this example, we'll use binary encoding where 0 represents one gender and 1 represents the other.\n",
    "\n",
    "Contract Type (Multi-Class Categorical):\n",
    "Contract type likely has multiple categories (e.g., Month-to-month, One year, Two years). One-hot encoding is suitable for this scenario, as it will create binary columns for each contract type, indicating whether the customer has that type of contract or not.\n",
    "\n",
    "Numerical Features:\n",
    "Age, monthly charges, and tenure are already in numerical format and don't require any special encoding."
   ]
  },
  {
   "cell_type": "code",
   "execution_count": 11,
   "id": "23fe667a-64e3-467c-907d-dc7370853ab0",
   "metadata": {},
   "outputs": [
    {
     "name": "stdout",
     "output_type": "stream",
     "text": [
      "   Age  MonthlyCharges  Tenure  Gender_Encoded  Contract_Month-to-month  \\\n",
      "0   25            65.0      15               0                        1   \n",
      "1   32            45.5      12               1                        0   \n",
      "2   45            85.0       6               0                        1   \n",
      "3   29            75.2      24               1                        0   \n",
      "4   50            95.0       3               0                        1   \n",
      "\n",
      "   Contract_One year  Contract_Two year  \n",
      "0                  0                  0  \n",
      "1                  1                  0  \n",
      "2                  0                  0  \n",
      "3                  0                  1  \n",
      "4                  0                  0  \n"
     ]
    }
   ],
   "source": [
    "import pandas as pd\n",
    "\n",
    "# Sample data\n",
    "data = {\n",
    "    'Gender': ['Male', 'Female', 'Male', 'Female', 'Male'],\n",
    "    'Age': [25, 32, 45, 29, 50],\n",
    "    'Contract': ['Month-to-month', 'One year', 'Month-to-month', 'Two year', 'Month-to-month'],\n",
    "    'MonthlyCharges': [65.0, 45.5, 85.0, 75.2, 95.0],\n",
    "    'Tenure': [15, 12, 6, 24, 3]\n",
    "}\n",
    "\n",
    "df = pd.DataFrame(data)\n",
    "\n",
    "# Binary encoding for gender\n",
    "df['Gender_Encoded'] = df['Gender'].apply(lambda x: 1 if x == 'Female' else 0)\n",
    "\n",
    "# One-hot encoding for contract type\n",
    "contract_dummies = pd.get_dummies(df['Contract'], prefix='Contract')\n",
    "df = pd.concat([df, contract_dummies], axis=1)\n",
    "\n",
    "# Drop the original categorical columns\n",
    "df.drop(['Gender', 'Contract'], axis=1, inplace=True)\n",
    "\n",
    "print(df)\n"
   ]
  },
  {
   "cell_type": "code",
   "execution_count": null,
   "id": "f94cb1dd-d8fa-435b-9adf-a89868946572",
   "metadata": {},
   "outputs": [],
   "source": []
  }
 ],
 "metadata": {
  "kernelspec": {
   "display_name": "Python 3 (ipykernel)",
   "language": "python",
   "name": "python3"
  },
  "language_info": {
   "codemirror_mode": {
    "name": "ipython",
    "version": 3
   },
   "file_extension": ".py",
   "mimetype": "text/x-python",
   "name": "python",
   "nbconvert_exporter": "python",
   "pygments_lexer": "ipython3",
   "version": "3.10.8"
  }
 },
 "nbformat": 4,
 "nbformat_minor": 5
}
