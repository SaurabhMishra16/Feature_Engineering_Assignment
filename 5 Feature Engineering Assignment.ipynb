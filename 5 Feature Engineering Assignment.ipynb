{
 "cells": [
  {
   "cell_type": "markdown",
   "id": "b4182f8c-9774-494c-aa8b-a7f87af8889c",
   "metadata": {},
   "source": [
    "Q1. Pearson correlation coefficient is a measure of the linear relationship between two variables. Suppose\n",
    "you have collected data on the amount of time students spend studying for an exam and their final exam\n",
    "scores. Calculate the Pearson correlation coefficient between these two variables and interpret the result."
   ]
  },
  {
   "cell_type": "markdown",
   "id": "89b96238-a2df-46a7-a5cc-5b6d4713931e",
   "metadata": {},
   "source": [
    "The Pearson correlation coefficient (also known as Pearson's r) measures the strength and direction of the linear relationship between two continuous variables. It quantifies how well the data points align along a linear trend. The Pearson correlation coefficient can range from -1 to 1, where:\n",
    "\n",
    "** 1 indicates a perfect positive linear relationship (as one variable increases, the other increases proportionally).\n",
    "\n",
    "** -1 indicates a perfect negative linear relationship (as one variable increases, the other decreases proportionally).\n",
    "\n",
    "** 0 indicates no linear relationship between the variables.\n",
    "In your scenario, the amount of time students spend studying for an exam and their final exam scores are the two continuous variables. Calculating the Pearson correlation coefficient between these variables will help you understand the strength and direction of their linear relationship."
   ]
  },
  {
   "cell_type": "code",
   "execution_count": 1,
   "id": "992bbf87-9299-479a-8911-df82d90636e6",
   "metadata": {},
   "outputs": [
    {
     "name": "stdout",
     "output_type": "stream",
     "text": [
      "Pearson Correlation Coefficient: 0.9671020604154756\n"
     ]
    }
   ],
   "source": [
    "import numpy as np\n",
    "import pandas as pd\n",
    "\n",
    "# Sample data: Amount of time studied and exam scores\n",
    "time_studied = np.array([10, 8, 5, 12, 6, 9, 7, 11])\n",
    "exam_scores = np.array([85, 70, 60, 90, 65, 80, 75, 88])\n",
    "\n",
    "# Create a DataFrame\n",
    "df = pd.DataFrame({'Time_Studied': time_studied, 'Exam_Scores': exam_scores})\n",
    "\n",
    "# Calculate Pearson correlation coefficient\n",
    "correlation_coefficient = df['Time_Studied'].corr(df['Exam_Scores'])\n",
    "\n",
    "print(\"Pearson Correlation Coefficient:\", correlation_coefficient)\n"
   ]
  },
  {
   "cell_type": "markdown",
   "id": "c921a448-4c83-45a7-8f7a-78f277914437",
   "metadata": {},
   "source": [
    "Q2. Spearman's rank correlation is a measure of the monotonic relationship between two variables.\n",
    "Suppose you have collected data on the amount of sleep individuals get each night and their overall job\n",
    "satisfaction level on a scale of 1 to 10. Calculate the Spearman's rank correlation between these two\n",
    "variables and interpret the result."
   ]
  },
  {
   "cell_type": "markdown",
   "id": "1a3fdd01-dcc0-4fbe-9ca2-ee0664c29b58",
   "metadata": {},
   "source": [
    "Spearman's rank correlation coefficient (often denoted as ρ or rs) is a non-parametric measure of the monotonic relationship between two variables. It assesses whether there is a consistent increase or decrease in the values of one variable as the values of another variable increase. It is suitable for both linear and non-linear relationships.\n",
    "\n",
    "In your scenario, you have collected data on the amount of sleep individuals get each night and their overall job satisfaction level on a scale of 1 to 10. Spearman's rank correlation can help you understand the strength and direction of the monotonic relationship between these two variables."
   ]
  },
  {
   "cell_type": "code",
   "execution_count": 2,
   "id": "993105a3-e0d7-4175-b660-6e7d22c4951d",
   "metadata": {},
   "outputs": [
    {
     "name": "stdout",
     "output_type": "stream",
     "text": [
      "Spearman's Rank Correlation Coefficient: 0.8849947770681914\n"
     ]
    }
   ],
   "source": [
    "import pandas as pd\n",
    "\n",
    "# Sample data: Amount of sleep and job satisfaction levels\n",
    "amount_of_sleep = [7, 6, 5, 8, 6, 7, 5, 9]\n",
    "job_satisfaction = [8, 5, 3, 9, 4, 7, 6, 10]\n",
    "\n",
    "# Create a DataFrame\n",
    "df = pd.DataFrame({'Amount_of_Sleep': amount_of_sleep, 'Job_Satisfaction': job_satisfaction})\n",
    "\n",
    "# Calculate Spearman's rank correlation coefficient\n",
    "spearman_correlation = df['Amount_of_Sleep'].corr(df['Job_Satisfaction'], method='spearman')\n",
    "\n",
    "print(\"Spearman's Rank Correlation Coefficient:\", spearman_correlation)\n"
   ]
  },
  {
   "cell_type": "markdown",
   "id": "fd3d5d65-0982-49ac-aadd-75e8b8b95246",
   "metadata": {},
   "source": [
    "Q3. Suppose you are conducting a study to examine the relationship between the number of hours of\n",
    "exercise per week and body mass index (BMI) in a sample of adults. You collected data on both variables\n",
    "for 50 participants. Calculate the Pearson correlation coefficient and the Spearman's rank correlation\n",
    "between these two variables and compare the results."
   ]
  },
  {
   "cell_type": "code",
   "execution_count": 3,
   "id": "8077fb61-5c37-4639-94d4-08a8e5f763f7",
   "metadata": {},
   "outputs": [
    {
     "name": "stdout",
     "output_type": "stream",
     "text": [
      "Pearson Correlation Coefficient: 0.9758056570406863\n",
      "Spearman's Rank Correlation Coefficient: 0.976784145996443\n"
     ]
    }
   ],
   "source": [
    "import numpy as np\n",
    "import pandas as pd\n",
    "from scipy.stats import spearmanr\n",
    "\n",
    "# Sample data: Number of hours of exercise and BMI\n",
    "hours_of_exercise = np.array([2, 4, 3, 5, 2, 1, 6, 3, 4, 2, 3, 1, 2, 5, 4, 3, 6, 1, 2, 5,\n",
    "                              3, 4, 2, 1, 4, 6, 3, 2, 5, 4, 1, 3, 6, 2, 5, 4, 1, 3, 2, 6,\n",
    "                              4, 5, 1, 3, 2, 4, 5, 6, 1, 2])\n",
    "bmi = np.array([23.5, 27.8, 25.3, 30.2, 22.1, 21.0, 32.7, 24.6, 26.4, 21.9, 27.1, 20.2,\n",
    "                22.5, 29.8, 28.3, 25.9, 33.1, 19.8, 23.6, 30.5, 24.7, 26.2, 20.8, 18.9,\n",
    "                27.3, 34.0, 24.8, 21.5, 28.7, 26.6, 18.6, 25.0, 32.2, 21.4, 29.5, 27.0,\n",
    "                18.0, 25.8, 22.7, 33.5, 28.9, 31.3, 19.5, 26.9, 24.2, 27.6, 30.1, 34.3,\n",
    "                17.4, 21.8])\n",
    "\n",
    "# Create a DataFrame\n",
    "df = pd.DataFrame({'Hours_of_Exercise': hours_of_exercise, 'BMI': bmi})\n",
    "\n",
    "# Calculate Pearson correlation coefficient\n",
    "pearson_correlation = df['Hours_of_Exercise'].corr(df['BMI'])\n",
    "\n",
    "# Calculate Spearman's rank correlation coefficient\n",
    "spearman_correlation = spearmanr(df['Hours_of_Exercise'], df['BMI']).correlation\n",
    "\n",
    "print(\"Pearson Correlation Coefficient:\", pearson_correlation)\n",
    "print(\"Spearman's Rank Correlation Coefficient:\", spearman_correlation)\n"
   ]
  },
  {
   "cell_type": "markdown",
   "id": "7eeb5cfc-015b-49f9-add7-53dbd2dc59a2",
   "metadata": {},
   "source": [
    "Q4. A researcher is interested in examining the relationship between the number of hours individuals\n",
    "spend watching television per day and their level of physical activity. The researcher collected data on\n",
    "both variables from a sample of 50 participants. Calculate the Pearson correlation coefficient between\n",
    "these two variables."
   ]
  },
  {
   "cell_type": "code",
   "execution_count": 4,
   "id": "c845040d-1bf0-4507-8144-003aee8624a0",
   "metadata": {},
   "outputs": [
    {
     "name": "stdout",
     "output_type": "stream",
     "text": [
      "Pearson Correlation Coefficient: 0.9999999999999999\n"
     ]
    }
   ],
   "source": [
    "import numpy as np\n",
    "import pandas as pd\n",
    "\n",
    "# Sample data: Hours of TV watching and level of physical activity\n",
    "tv_hours = np.array([2, 3, 4, 5, 2, 1, 6, 3, 4, 2, 3, 1, 2, 5, 4, 3, 6, 1, 2, 5,\n",
    "                     3, 4, 2, 1, 4, 6, 3, 2, 5, 4, 1, 3, 6, 2, 5, 4, 1, 3, 2, 6,\n",
    "                     4, 5, 1, 3, 2, 4, 5, 6, 1, 2])\n",
    "physical_activity = np.array([2, 3, 4, 5, 2, 1, 6, 3, 4, 2, 3, 1, 2, 5, 4, 3, 6, 1, 2, 5,\n",
    "                              3, 4, 2, 1, 4, 6, 3, 2, 5, 4, 1, 3, 6, 2, 5, 4, 1, 3, 2, 6,\n",
    "                              4, 5, 1, 3, 2, 4, 5, 6, 1, 2])\n",
    "\n",
    "# Create a DataFrame\n",
    "df = pd.DataFrame({'TV_Hours': tv_hours, 'Physical_Activity': physical_activity})\n",
    "\n",
    "# Calculate Pearson correlation coefficient\n",
    "pearson_correlation = df['TV_Hours'].corr(df['Physical_Activity'])\n",
    "\n",
    "print(\"Pearson Correlation Coefficient:\", pearson_correlation)\n"
   ]
  },
  {
   "cell_type": "markdown",
   "id": "40fdade0-154e-41e7-b141-64c490e9a26f",
   "metadata": {},
   "source": [
    "Q5. A survey was conducted to examine the relationship between age and preference for a particular\n",
    "brand of soft drink. The survey results are shown below:\n",
    "\n",
    "Age(Years)       Soft drink Preference\n",
    "\n",
    "25               Coke\n",
    "\n",
    "42               Pepsi\n",
    "\n",
    "37               Mountain dew\n",
    "\n",
    "19               Coke\n",
    "\n",
    "31               Pepsi\n",
    "\n",
    "28               Coke\n"
   ]
  },
  {
   "cell_type": "markdown",
   "id": "def812d8-656a-450f-99db-60a41e4e2084",
   "metadata": {},
   "source": [
    "To analyze the relationship between age and preference for a particular brand of soft drink, you can calculate the point-biserial correlation coefficient. This coefficient measures the strength and direction of the linear relationship between a binary categorical variable (in this case, the soft drink preference) and a continuous variable (age). However, since the data provided doesn't have quantitative values for the soft drink preference, we can't directly calculate a correlation coefficient.\n",
    "\n",
    "Here's what you can do with the given data:\n",
    "\n",
    "Convert Categorical Preference to Quantitative Values:\n",
    "Assign numerical values to the soft drink preferences (e.g., Coke=1, Pepsi=2, Mountain Dew=3) so that you can treat it as a quantitative variable.\n",
    "\n",
    "Calculate the Point-Biserial Correlation Coefficient:\n",
    "Once you've assigned numerical values to the soft drink preferences, you can calculate the point-biserial correlation coefficient between the age and preference variables."
   ]
  },
  {
   "cell_type": "code",
   "execution_count": 5,
   "id": "bf7917df-89ab-4f31-8ee7-3c7bb7fead8e",
   "metadata": {},
   "outputs": [
    {
     "name": "stdout",
     "output_type": "stream",
     "text": [
      "Point-Biserial Correlation Coefficient: 0.7587035441865057\n"
     ]
    }
   ],
   "source": [
    "import pandas as pd\n",
    "from scipy.stats import pointbiserialr\n",
    "\n",
    "# Sample data\n",
    "data = {\n",
    "    'Age': [25, 42, 37, 19, 31, 28],\n",
    "    'Soft_Drink_Preference': ['Coke', 'Pepsi', 'Mountain Dew', 'Coke', 'Pepsi', 'Coke']\n",
    "}\n",
    "\n",
    "df = pd.DataFrame(data)\n",
    "\n",
    "# Convert soft drink preference to numerical values\n",
    "preference_mapping = {'Coke': 1, 'Pepsi': 2, 'Mountain Dew': 3}\n",
    "df['Preference_Num'] = df['Soft_Drink_Preference'].map(preference_mapping)\n",
    "\n",
    "# Calculate point-biserial correlation coefficient\n",
    "correlation_coefficient = pointbiserialr(df['Age'], df['Preference_Num']).correlation\n",
    "\n",
    "print(\"Point-Biserial Correlation Coefficient:\", correlation_coefficient)\n"
   ]
  },
  {
   "cell_type": "markdown",
   "id": "97f54fb1-cb29-4f46-8894-3ca906fe73dd",
   "metadata": {},
   "source": [
    "Q6. A company is interested in examining the relationship between the number of sales calls made per day\n",
    "and the number of sales made per week. The company collected data on both variables from a sample of\n",
    "30 sales representatives. Calculate the Pearson correlation coefficient between these two variables."
   ]
  },
  {
   "cell_type": "code",
   "execution_count": 1,
   "id": "a9d7e2dd-3066-4cad-bc77-62dde131453d",
   "metadata": {},
   "outputs": [
    {
     "name": "stdout",
     "output_type": "stream",
     "text": [
      "Pearson Correlation Coefficient: 0.9751934992307941\n"
     ]
    }
   ],
   "source": [
    "import numpy as np\n",
    "import pandas as pd\n",
    "\n",
    "# Sample data: Number of sales calls per day and number of sales per week\n",
    "sales_calls_per_day = np.array([20, 25, 18, 22, 16, 19, 23, 21, 24, 17, 20, 15, 26, 18, 22,\n",
    "                                19, 23, 21, 24, 17, 20, 15, 26, 18, 22, 19, 23, 21, 24,\n",
    "                                17, 20])\n",
    "sales_per_week = np.array([80, 90, 75, 85, 70, 78, 88, 82, 93, 72, 82, 65, 96, 74, 84,\n",
    "                           77, 88, 83, 91, 70, 81, 60, 97, 76, 85, 78, 89, 81, 92,\n",
    "                           73, 86])\n",
    "\n",
    "# Create a DataFrame\n",
    "df = pd.DataFrame({'Sales_Calls_Per_Day': sales_calls_per_day, 'Sales_Per_Week': sales_per_week})\n",
    "\n",
    "# Calculate Pearson correlation coefficient\n",
    "pearson_correlation = df['Sales_Calls_Per_Day'].corr(df['Sales_Per_Week'])\n",
    "\n",
    "print(\"Pearson Correlation Coefficient:\", pearson_correlation)\n"
   ]
  },
  {
   "cell_type": "code",
   "execution_count": null,
   "id": "77726a45-d4d4-49c5-93a5-50ff7b0e7115",
   "metadata": {},
   "outputs": [],
   "source": []
  }
 ],
 "metadata": {
  "kernelspec": {
   "display_name": "Python 3 (ipykernel)",
   "language": "python",
   "name": "python3"
  },
  "language_info": {
   "codemirror_mode": {
    "name": "ipython",
    "version": 3
   },
   "file_extension": ".py",
   "mimetype": "text/x-python",
   "name": "python",
   "nbconvert_exporter": "python",
   "pygments_lexer": "ipython3",
   "version": "3.10.8"
  }
 },
 "nbformat": 4,
 "nbformat_minor": 5
}
